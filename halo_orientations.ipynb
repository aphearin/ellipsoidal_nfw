{
 "cells": [
  {
   "cell_type": "code",
   "execution_count": 195,
   "id": "gorgeous-thomas",
   "metadata": {},
   "outputs": [],
   "source": [
    "import numpy as np\n",
    "import time\n",
    "from rotations.vector_utilities import angles_between_list_of_vectors\n",
    "import matplotlib.pyplot as plt\n",
    "\n",
    "from ellipsoidal_nfw import random_nfw_ellipsoid\n",
    "\n",
    "# This is not installed!!! Right now, these files are just sitting in the same directory\n",
    "import inertia_tensors as itens"
   ]
  },
  {
   "cell_type": "code",
   "execution_count": 196,
   "id": "opposite-holmes",
   "metadata": {},
   "outputs": [],
   "source": [
    "def downsample_halo(halo, remaining_portion):\n",
    "    \"\"\"\n",
    "    Assuming the halo is a numpy array of (x,y,z) coordinates, return a subset of that list with a portion taken out\n",
    "    \n",
    "    Params:\n",
    "        halo                    - numpy array of (x,y,z) coordinates representing the dark matter particle locations\n",
    "        remaining_portion       - Fraction of the total halo to keep (0.8 returns 80% of the passed in halo)\n",
    "    Returns:\n",
    "        downsampled             - The portion of the halo remaining\n",
    "    \"\"\"\n",
    "    num_els = int( len(halo)*remaining_portion )\n",
    "    inds = np.random.choice( np.arange(len(halo)), num_els, replace=False)\n",
    "    return halo[inds]\n",
    "\n",
    "def calculate_axes(halos):\n",
    "    \"\"\"\n",
    "    Given a downsampled halo (or several halos), calculate a major axis using the inertia tensor\n",
    "    \n",
    "    Params:\n",
    "        halos                   - Single halo or list of several halos where each halo is a list of (x,y,z) tuples representing cooridnates\n",
    "        separate_axes           - By default, inertia_tensors returns a 6-tuple where each element is an array\n",
    "                                  The first three arrays hold the major, intermediate, and minor axes\n",
    "                                  The last three hold the eigenvectors\n",
    "                                  Setting this to True (it's default value) will separate the axes and eigenvectors into separate arrays\n",
    "    Returns:\n",
    "        results                 - The 6-tuple of axes and eigenvectors (each tuple element is an array representing one property)\n",
    "                                  Each array in the tuple holds a value for every inertia tensor\n",
    "    \"\"\"\n",
    "    I = itens.inertia_tensors(halos)\n",
    "    return itens._principal_axes_3D(I)\n",
    "\n",
    "def separate_axes(principal_axes):\n",
    "    \"\"\"\n",
    "    Splits the results of calculate_axes into easier to parse arrays\n",
    "    \n",
    "    Params:\n",
    "        principal_axes          - The 6-tuple returned by inertia_tensors._principal_axes\n",
    "    \n",
    "    Returns:\n",
    "        axis_lengths            - an nx3 numpy array where each row is a new object and the three columns are the major, intermediate, and minor axis lengths\n",
    "        evecs                   - an nx3x3 array where the first index is the object, then each of the three columns is an eigenvector for that object\n",
    "    \"\"\"\n",
    "    axis_lengths = np.array( [ principal_axes[0], principal_axes[1], principal_axes[2] ] ).T\n",
    "    evecs = np.array( [ principal_axes[3].T, principal_axes[4].T, principal_axes[5].T ] ).T\n",
    "    \n",
    "    return axis_lengths, evecs\n",
    "\n",
    "def get_angles(evecs_A, evecs_B, ignore_antiparallel=True):\n",
    "    \"\"\"\n",
    "    Simply calls angles_between_list_of_vectors between just the major eigenvectors of each set given\n",
    "    \n",
    "    Params:\n",
    "        evecs_A                 - The list of eigenvectors from one system (multiple objects each with their given eigenvectors)\n",
    "        evecs_B                 - The list of eigenvectors from the second system\n",
    "        ignore_antiparallel     - if pi is the same as 0 in terms of misalignment, take the min of angle and np.pi-angle for each angle\n",
    "    \n",
    "    Returns:\n",
    "        angles                  - The angles between each major eigenvector in evecs_A and the corresponding major eigenvector in evecs_B\n",
    "    \"\"\"\n",
    "    \n",
    "    # Get just the major eigenvectors for each sample\n",
    "    major_A = evecs_A[:,:,0]\n",
    "    major_B = evecs_B[:,:,0]\n",
    "    \n",
    "    angles = angles_between_list_of_vectors(major_A, major_B)\n",
    "    \n",
    "    if ignore_antiparallel:\n",
    "        # If antiparallel is the same as parallel, just report the smaller angle\n",
    "        angles = np.minimum( angles, np.pi-angles )\n",
    "    \n",
    "    return angles\n",
    "\n",
    "# Get theta and phi from the eigenvector (with respect to the z axis)\n",
    "def theta_phi(coords):\n",
    "    r = np.sqrt( np.sum( coords**2, axis=1 ) )\n",
    "    units = coords/np.array([r,r,r]).T\n",
    "    thetas = np.arccos( units[:,2] )\n",
    "    phis = np.arccos( units[:,0]/np.sin(thetas) )\n",
    "    return thetas, phis"
   ]
  },
  {
   "cell_type": "code",
   "execution_count": 202,
   "id": "verified-philip",
   "metadata": {},
   "outputs": [],
   "source": [
    "npts = 5000\n",
    "conc = np.zeros(npts)+5.\n",
    "x, y, z = random_nfw_ellipsoid(conc, a=0.4, b=0.5, c=1)\n",
    "coords = np.array( [ coord for coord in zip(x,y,z) ] )"
   ]
  },
  {
   "cell_type": "code",
   "execution_count": 252,
   "id": "minus-river",
   "metadata": {},
   "outputs": [],
   "source": [
    "runs = 5\n",
    "repetitions = 500\n",
    "frac = 0.8\n",
    "npts = 10000\n",
    "\n",
    "perfect_axes = np.array( [ np.array([0,0,1]) for i in range(repetitions) ] )\n",
    "#coords_A = np.array( [coords for i in range(repetitions) ] )\n",
    "\n",
    "coords_A = []\n",
    "coords_B = []\n",
    "for i in range(repetitions):\n",
    "    #npts = 500000\n",
    "    conc = np.zeros(npts)+5.\n",
    "    x, y, z = random_nfw_ellipsoid(conc, a=0.5, b=0.5, c=1)\n",
    "    coords = np.array( [ coord for coord in zip(x,y,z) ] )\n",
    "    coords_A.append( coords )\n",
    "    coords_B.append( downsample_halo(coords, frac) )\n",
    "coords_A = np.array(coords_A)\n",
    "coords_B = np.array(coords_B)\n",
    "lengths_A, evecs_A = separate_axes( calculate_axes(coords_A) )\n",
    "lengths_B, evecs_B = separate_axes( calculate_axes(coords_B) )"
   ]
  },
  {
   "cell_type": "code",
   "execution_count": 197,
   "id": "generic-china",
   "metadata": {},
   "outputs": [],
   "source": [
    "runs = 5\n",
    "repetitions = 10\n",
    "frac = 0.8\n",
    "npts = 10\n",
    "\n",
    "realizations = []\n",
    "resolutions = []\n",
    "\n",
    "perfect_axes = np.array( [ np.array([0,0,1]) for i in range(repetitions) ] )\n",
    "#coords_A = np.array( [coords for i in range(repetitions) ] )\n",
    "\n",
    "for i in range(runs):\n",
    "    coords_A = []\n",
    "    coords_B = []\n",
    "    for i in range(repetitions):\n",
    "        #npts = 500000\n",
    "        conc = np.zeros(npts)+5.\n",
    "        x, y, z = random_nfw_ellipsoid(conc, a=0.5, b=0.5, c=1)\n",
    "        coords = np.array( [ coord for coord in zip(x,y,z) ] )\n",
    "        coords_A.append( coords )\n",
    "        coords_B.append( downsample_halo(coords, frac) )\n",
    "    coords_A = np.array(coords_A)\n",
    "    coords_B = np.array(coords_B)\n",
    "    lengths_A, evecs_A = separate_axes( calculate_axes(coords_A) )\n",
    "    lengths_B, evecs_B = separate_axes( calculate_axes(coords_B) )\n",
    "    \n",
    "    realizations.append( evecs_A[:,:,0] )\n",
    "    resolutions.append( npts )\n",
    "    npts *= 10"
   ]
  },
  {
   "cell_type": "code",
   "execution_count": 198,
   "id": "guided-jumping",
   "metadata": {},
   "outputs": [],
   "source": [
    "angles = []\n",
    "for segment in realizations:\n",
    "    ang = angles_between_list_of_vectors( perfect_axes, segment )\n",
    "    ang = np.minimum(ang, np.pi-ang)\n",
    "    angles.append(ang)\n",
    "mean_angles = np.mean(angles, axis=1)"
   ]
  },
  {
   "cell_type": "code",
   "execution_count": 199,
   "id": "further-percentage",
   "metadata": {},
   "outputs": [
    {
     "data": {
      "image/png": "[encoded data removed]",
      "text/plain": [
       "<Figure size 432x288 with 1 Axes>"
      ]
     },
     "metadata": {
      "needs_background": "light"
     },
     "output_type": "display_data"
    }
   ],
   "source": [
    "for i in range(len(angles)):\n",
    "    plt.plot( np.ones(len(angles[i]))*resolutions[i], angles[i], \"o\", label=\"n = \"+str(resolutions[i]) )\n",
    "plt.plot(resolutions, mean_angles, label=\"means\")\n",
    "plt.legend()\n",
    "plt.title(\"Angle Between Z-axis and Major Axis\")\n",
    "plt.xlabel(\"Number of particles\")\n",
    "plt.ylabel(\"Angle (Radians)\")\n",
    "plt.xscale(\"log\")\n",
    "plt.yscale(\"log\")"
   ]
  },
  {
   "cell_type": "code",
   "execution_count": 121,
   "id": "economic-methodology",
   "metadata": {},
   "outputs": [
    {
     "name": "stdout",
     "output_type": "stream",
     "text": [
      "[0.00152998 0.00379738 0.00139622 0.00424101 0.001991   0.00281254\n",
      " 0.00429012 0.00372836 0.00660931 0.01281254 0.00091184 0.00426643\n",
      " 0.00478625 0.00411153 0.00200402 0.00263778 0.00236182 0.00586856\n",
      " 0.00630838 0.00724048]\n"
     ]
    }
   ],
   "source": [
    "angles = get_angles(evecs_A, evecs_B)\n",
    "print(angles)"
   ]
  },
  {
   "cell_type": "code",
   "execution_count": 200,
   "id": "russian-stewart",
   "metadata": {},
   "outputs": [
    {
     "name": "stdout",
     "output_type": "stream",
     "text": [
      "[0.00164478 0.00070692 0.00540479 0.0033445  0.00137535 0.00087679\n",
      " 0.00341141 0.00185404 0.00139898 0.00200971]\n"
     ]
    }
   ],
   "source": [
    "perfect_angles = angles_between_list_of_vectors( perfect_axes, evecs_A[:,:,0] )\n",
    "perfect_angles = np.minimum( perfect_angles, np.pi-perfect_angles )\n",
    "print(perfect_angles)"
   ]
  },
  {
   "cell_type": "code",
   "execution_count": 123,
   "id": "missing-latitude",
   "metadata": {},
   "outputs": [
    {
     "name": "stdout",
     "output_type": "stream",
     "text": [
      "[0.01759899 0.00732909 0.00675637 0.00667328 0.01316174 0.00662465\n",
      " 0.01447813 0.0016223  0.01308208 0.00856696 0.01283873 0.00716227\n",
      " 0.01202065 0.00629736 0.01103292 0.01357819 0.0040307  0.00663119\n",
      " 0.01506785 0.02472202]\n"
     ]
    }
   ],
   "source": [
    "perfect_to_downsampled = angles_between_list_of_vectors( perfect_axes, evecs_B[:,:,0] )\n",
    "perfect_to_downsampled = np.minimum( perfect_to_downsampled, np.pi-perfect_to_downsampled )\n",
    "print(perfect_to_downsampled)"
   ]
  },
  {
   "cell_type": "code",
   "execution_count": 88,
   "id": "blind-bolivia",
   "metadata": {},
   "outputs": [
    {
     "data": {
      "text/plain": [
       "array([0.16032614, 0.04260412, 0.08902963, 0.22999772, 0.09647562,\n",
       "       0.17076362, 0.0968812 , 0.10817285, 0.09289946, 0.36315252,\n",
       "       0.1909397 , 0.07531924, 0.13514019, 0.05110315, 0.05230303,\n",
       "       0.14286788, 0.09233062, 0.16310536, 0.34971109, 0.33594594])"
      ]
     },
     "execution_count": 88,
     "metadata": {},
     "output_type": "execute_result"
    }
   ],
   "source": [
    "np.minimum(perfect_to_downsampled, np.pi-perfect_to_downsampled)"
   ]
  },
  {
   "cell_type": "code",
   "execution_count": 119,
   "id": "running-bumper",
   "metadata": {},
   "outputs": [
    {
     "data": {
      "text/plain": [
       "array([[-9.99694557e-01, -3.51361812e-03,  2.44631785e-02],\n",
       "       [-9.99923209e-01, -1.22249717e-02, -2.03125128e-03],\n",
       "       [-9.99930314e-01,  1.05560374e-02, -5.28550316e-03],\n",
       "       [-9.99932661e-01,  9.10043391e-03,  7.20104498e-03],\n",
       "       [-9.99926735e-01,  6.81892559e-03,  1.00013107e-02],\n",
       "       [-9.99992743e-01, -3.74768913e-03, -6.84020289e-04],\n",
       "       [-9.99827291e-01,  1.85281984e-02, -1.44705313e-03],\n",
       "       [-9.99984577e-01, -5.43841133e-03, -1.12701617e-03],\n",
       "       [-9.99981185e-01, -4.29548893e-03, -4.37934208e-03],\n",
       "       [-9.99971429e-01, -2.01267991e-03,  7.28628200e-03],\n",
       "       [-9.99808804e-01, -6.52760725e-03, -1.84321827e-02],\n",
       "       [-9.99793120e-01,  1.91911592e-02,  6.73915555e-03],\n",
       "       [-9.99968029e-01,  6.51208292e-03,  4.64042969e-03],\n",
       "       [-9.99914031e-01, -1.87640819e-03,  1.29772555e-02],\n",
       "       [-9.99911739e-01,  1.48144782e-03, -1.32029845e-02],\n",
       "       [-9.99774919e-01, -9.02593221e-03,  1.92001216e-02],\n",
       "       [-9.99960778e-01,  8.85664909e-03,  4.55798734e-05],\n",
       "       [-9.99923801e-01, -1.23106526e-02,  9.16478717e-04],\n",
       "       [-9.99759227e-01, -1.98729685e-02, -9.30335701e-03],\n",
       "       [-9.99768984e-01, -2.09069093e-02, -4.98795939e-03]])"
      ]
     },
     "execution_count": 119,
     "metadata": {},
     "output_type": "execute_result"
    }
   ],
   "source": [
    "evecs_A[:,:,0]"
   ]
  },
  {
   "cell_type": "code",
   "execution_count": 125,
   "id": "political-adelaide",
   "metadata": {},
   "outputs": [],
   "source": [
    "hold = np.array([ [1,1,1], [1,2,3] ])\n",
    "r = np.sqrt( np.sum( hold**2, axis=1 ) )"
   ]
  },
  {
   "cell_type": "code",
   "execution_count": 126,
   "id": "transparent-essex",
   "metadata": {},
   "outputs": [
    {
     "data": {
      "text/plain": [
       "array([1.73205081, 3.74165739])"
      ]
     },
     "execution_count": 126,
     "metadata": {},
     "output_type": "execute_result"
    }
   ],
   "source": [
    "r"
   ]
  },
  {
   "cell_type": "code",
   "execution_count": 253,
   "id": "portable-dominican",
   "metadata": {},
   "outputs": [],
   "source": [
    "perfect_angles = angles_between_list_of_vectors( perfect_axes, evecs_A[:,:,0] )\n",
    "perfect_angles = np.minimum( perfect_angles, np.pi-perfect_angles )\n",
    "thetas, phis = theta_phi(evecs_A[:,:,0])"
   ]
  },
  {
   "cell_type": "code",
   "execution_count": 205,
   "id": "cardiac-restaurant",
   "metadata": {},
   "outputs": [
    {
     "data": {
      "text/plain": [
       "False"
      ]
     },
     "execution_count": 205,
     "metadata": {},
     "output_type": "execute_result"
    }
   ],
   "source": [
    "all( abs(perfect_angles-thetas) < 0.00001 )"
   ]
  },
  {
   "cell_type": "code",
   "execution_count": 256,
   "id": "lyric-crack",
   "metadata": {},
   "outputs": [
    {
     "data": {
      "text/plain": [
       "Text(0, 0.5, 'Count')"
      ]
     },
     "execution_count": 256,
     "metadata": {},
     "output_type": "execute_result"
    },
    {
     "data": {
      "image/png": "[encoded data removed]",
      "text/plain": [
       "<Figure size 432x288 with 1 Axes>"
      ]
     },
     "metadata": {
      "needs_background": "light"
     },
     "output_type": "display_data"
    }
   ],
   "source": [
    "#perfect_angles = sorted(perfect_angles)\n",
    "plt.hist(np.sin(perfect_angles),bins=50);\n",
    "plt.title(\"n = 10000 per halo, angle to z-axis\")\n",
    "plt.xlabel(r\"sin($\\theta$)\")\n",
    "plt.ylabel(\"Count\")\n",
    "#plt.hist(thetas)"
   ]
  },
  {
   "cell_type": "code",
   "execution_count": 169,
   "id": "preceding-guard",
   "metadata": {},
   "outputs": [
    {
     "data": {
      "image/png": "[encoded data removed]",
      "text/plain": [
       "<Figure size 432x288 with 1 Axes>"
      ]
     },
     "metadata": {
      "needs_background": "light"
     },
     "output_type": "display_data"
    }
   ],
   "source": [
    "#plt.hist(perfect_angles)\n",
    "#thetas = sorted(thetas)\n",
    "plt.hist(np.minimum(thetas,np.pi-thetas), bins=100);"
   ]
  },
  {
   "cell_type": "code",
   "execution_count": null,
   "id": "communist-nicaragua",
   "metadata": {},
   "outputs": [],
   "source": []
  },
  {
   "cell_type": "code",
   "execution_count": 155,
   "id": "enclosed-watts",
   "metadata": {},
   "outputs": [
    {
     "data": {
      "image/png": "[encoded data removed]",
      "text/plain": [
       "<Figure size 432x288 with 1 Axes>"
      ]
     },
     "metadata": {
      "needs_background": "light"
     },
     "output_type": "display_data"
    }
   ],
   "source": [
    "plt.hist(phis, bins=100);"
   ]
  },
  {
   "cell_type": "code",
   "execution_count": 251,
   "id": "efficient-frequency",
   "metadata": {},
   "outputs": [
    {
     "data": {
      "text/plain": [
       "41"
      ]
     },
     "execution_count": 251,
     "metadata": {},
     "output_type": "execute_result"
    }
   ],
   "source": [
    "import gc\n",
    "gc.collect()"
   ]
  },
  {
   "cell_type": "code",
   "execution_count": null,
   "id": "behavioral-break",
   "metadata": {},
   "outputs": [],
   "source": []
  }
 ],
 "metadata": {
  "kernelspec": {
   "display_name": "Python 3",
   "language": "python",
   "name": "python3"
  },
  "language_info": {
   "codemirror_mode": {
    "name": "ipython",
    "version": 3
   },
   "file_extension": ".py",
   "mimetype": "text/x-python",
   "name": "python",
   "nbconvert_exporter": "python",
   "pygments_lexer": "ipython3",
   "version": "3.8.1"
  }
 },
 "nbformat": 4,
 "nbformat_minor": 5
}
