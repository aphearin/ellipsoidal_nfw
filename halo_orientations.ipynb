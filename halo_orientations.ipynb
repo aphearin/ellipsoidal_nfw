{
 "cells": [
  {
   "cell_type": "code",
   "execution_count": 290,
   "id": "gorgeous-thomas",
   "metadata": {},
   "outputs": [],
   "source": [
    "import numpy as np\n",
    "import time\n",
    "from halotools.utils.vector_utilities import angles_between_list_of_vectors\n",
    "import matplotlib.pyplot as plt\n",
    "\n",
    "from ellipsoidal_nfw import random_nfw_ellipsoid\n",
    "\n",
    "# This is not installed!!! Right now, these files are just sitting in the same directory\n",
    "import inertia_tensors as itens"
   ]
  },
  {
   "cell_type": "code",
   "execution_count": 259,
   "id": "opposite-holmes",
   "metadata": {},
   "outputs": [],
   "source": [
    "def downsample_halo(halo, remaining_portion):\n",
    "    \"\"\"\n",
    "    Assuming the halo is a numpy array of (x,y,z) coordinates, return a subset of that list with a portion taken out\n",
    "    \n",
    "    Params:\n",
    "        halo                    - numpy array of (x,y,z) coordinates representing the dark matter particle locations\n",
    "        remaining_portion       - Fraction of the total halo to keep (0.8 returns 80% of the passed in halo)\n",
    "    Returns:\n",
    "        downsampled             - The portion of the halo remaining\n",
    "    \"\"\"\n",
    "    num_els = int( len(halo)*remaining_portion )\n",
    "    inds = np.random.choice( np.arange(len(halo)), num_els, replace=False)\n",
    "    return halo[inds]\n",
    "\n",
    "def calculate_axes(halos):\n",
    "    \"\"\"\n",
    "    Given a downsampled halo (or several halos), calculate a major axis using the inertia tensor\n",
    "    \n",
    "    Params:\n",
    "        halos                   - Single halo or list of several halos where each halo is a list of (x,y,z) tuples representing cooridnates\n",
    "        separate_axes           - By default, inertia_tensors returns a 6-tuple where each element is an array\n",
    "                                  The first three arrays hold the major, intermediate, and minor axes\n",
    "                                  The last three hold the eigenvectors\n",
    "                                  Setting this to True (it's default value) will separate the axes and eigenvectors into separate arrays\n",
    "    Returns:\n",
    "        results                 - The 6-tuple of axes and eigenvectors (each tuple element is an array representing one property)\n",
    "                                  Each array in the tuple holds a value for every inertia tensor\n",
    "    \"\"\"\n",
    "    I = itens.iterative_inertia_tensors_3D(halos)\n",
    "    return itens._principal_axes_3D(I)\n",
    "\n",
    "def separate_axes(principal_axes):\n",
    "    \"\"\"\n",
    "    Splits the results of calculate_axes into easier to parse arrays\n",
    "    \n",
    "    Params:\n",
    "        principal_axes          - The 6-tuple returned by inertia_tensors._principal_axes\n",
    "    \n",
    "    Returns:\n",
    "        axis_lengths            - an nx3 numpy array where each row is a new object and the three columns are the major, intermediate, and minor axis lengths\n",
    "        evecs                   - an nx3x3 array where the first index is the object, then each of the three columns is an eigenvector for that object\n",
    "    \"\"\"\n",
    "    axis_lengths = np.array( [ principal_axes[0], principal_axes[1], principal_axes[2] ] ).T\n",
    "    evecs = np.array( [ principal_axes[3].T, principal_axes[4].T, principal_axes[5].T ] ).T\n",
    "    \n",
    "    return axis_lengths, evecs\n",
    "\n",
    "def get_angles(evecs_A, evecs_B, ignore_antiparallel=True):\n",
    "    \"\"\"\n",
    "    Simply calls angles_between_list_of_vectors between just the major eigenvectors of each set given\n",
    "    \n",
    "    Params:\n",
    "        evecs_A                 - The list of eigenvectors from one system (multiple objects each with their given eigenvectors)\n",
    "        evecs_B                 - The list of eigenvectors from the second system\n",
    "        ignore_antiparallel     - if pi is the same as 0 in terms of misalignment, take the min of angle and np.pi-angle for each angle\n",
    "    \n",
    "    Returns:\n",
    "        angles                  - The angles between each major eigenvector in evecs_A and the corresponding major eigenvector in evecs_B\n",
    "    \"\"\"\n",
    "    \n",
    "    # Get just the major eigenvectors for each sample\n",
    "    major_A = evecs_A[:,:,0]\n",
    "    major_B = evecs_B[:,:,0]\n",
    "    \n",
    "    angles = angles_between_list_of_vectors(major_A, major_B)\n",
    "    \n",
    "    if ignore_antiparallel:\n",
    "        # If antiparallel is the same as parallel, just report the smaller angle\n",
    "        angles = np.minimum( angles, np.pi-angles )\n",
    "    \n",
    "    return angles\n",
    "\n",
    "# Get theta and phi from the eigenvector (with respect to the z axis)\n",
    "def theta_phi(coords):\n",
    "    r = np.sqrt( np.sum( coords**2, axis=1 ) )\n",
    "    units = coords/np.array([r,r,r]).T\n",
    "    thetas = np.arccos( units[:,2] )\n",
    "    phis = np.arccos( units[:,0]/np.sin(thetas) )\n",
    "    return thetas, phis"
   ]
  },
  {
   "cell_type": "code",
   "execution_count": 202,
   "id": "verified-philip",
   "metadata": {},
   "outputs": [],
   "source": [
    "npts = 5000\n",
    "conc = np.zeros(npts)+5.\n",
    "x, y, z = random_nfw_ellipsoid(conc, a=0.4, b=0.5, c=1)\n",
    "coords = np.array( [ coord for coord in zip(x,y,z) ] )"
   ]
  },
  {
   "cell_type": "code",
   "execution_count": 292,
   "id": "indian-cheat",
   "metadata": {},
   "outputs": [],
   "source": [
    "# Run for a single value of npts\n",
    "\n",
    "repetitions = 1000\n",
    "frac = 0.8\n",
    "npts = 100\n",
    "\n",
    "perfect_axes = np.array( [ np.array([0,0,1]) for i in range(repetitions) ] )\n",
    "#coords_A = np.array( [coords for i in range(repetitions) ] )\n",
    "\n",
    "coords_A = []\n",
    "coords_B = []\n",
    "for i in range(repetitions):\n",
    "    #npts = 500000\n",
    "    conc = np.zeros(npts)+5.\n",
    "    x, y, z = random_nfw_ellipsoid(conc, a=0.5, b=0.5, c=1)\n",
    "    coords = np.array( [ coord for coord in zip(x,y,z) ] )\n",
    "    coords_A.append( coords )\n",
    "    coords_B.append( downsample_halo(coords, frac) )\n",
    "coords_A = np.array(coords_A)\n",
    "coords_B = np.array(coords_B)\n",
    "lengths_A, evecs_A = separate_axes( calculate_axes(coords_A) )\n",
    "lengths_B, evecs_B = separate_axes( calculate_axes(coords_B) )"
   ]
  },
  {
   "cell_type": "code",
   "execution_count": 280,
   "id": "generic-china",
   "metadata": {},
   "outputs": [
    {
     "name": "stdout",
     "output_type": "stream",
     "text": [
      "0\n",
      "1\n",
      "2\n",
      "3\n"
     ]
    }
   ],
   "source": [
    "# OR run for multiple resolutions\n",
    "\n",
    "runs = 4\n",
    "repetitions = 1000\n",
    "frac = 0.8\n",
    "npts = 10\n",
    "calculate_every = 100\n",
    "\n",
    "realizations = []\n",
    "resolutions = []\n",
    "angles = []\n",
    "\n",
    "#perfect_axes = np.array( [ np.array([0,0,1]) for i in range(repetitions) ] )\n",
    "#coords_A = np.array( [coords for i in range(repetitions) ] )\n",
    "\n",
    "for i in range(runs):\n",
    "    print(i)\n",
    "    coords_A = []\n",
    "    coords_B = []\n",
    "    ang = []\n",
    "    for i in range(repetitions):\n",
    "        conc = np.zeros(npts)+5.\n",
    "        x, y, z = random_nfw_ellipsoid(conc, a=0.5, b=0.5, c=1)\n",
    "        coords = np.array( [ coord for coord in zip(x,y,z) ] )\n",
    "        coords_A.append( coords )\n",
    "        #coords_B.append( downsample_halo(coords, frac) )\n",
    "        \n",
    "        # To save on space, calculate the angles every so often and erase the saved lists of coordinates\n",
    "        if (i%calculate_every == 0 and i != 0) or i == repetitions-1:\n",
    "            coords_A = np.array(coords_A)\n",
    "            #coords_B = np.array(coords_B)\n",
    "            lengths_A, evecs_A = separate_axes( calculate_axes(coords_A) )\n",
    "            #lengths_B, evecs_B = separate_axes( calculate_axes(coords_B) )\n",
    "            perfect_axes = np.array( [ np.array([0,0,1]) for i in range(len(coords_A)) ] )\n",
    "            hold = angles_between_list_of_vectors( perfect_axes, evecs_A[:,:,0] )\n",
    "            ang.append( hold )\n",
    "            \n",
    "            # Clear the saved coordinates\n",
    "            coords_A = []\n",
    "            #coords_B = []\n",
    "    \n",
    "    #realizations.append( evecs_A[:,:,0] )\n",
    "    resolutions.append( npts )\n",
    "    npts *= 10\n",
    "    \n",
    "    angles.append( np.hstack(ang) )\n",
    "    \n",
    "for i in range(len(angles)):\n",
    "    angles[i] = np.minimum( angles[i], np.pi-angles[i] )\n",
    "    \n",
    "mean_angles = np.mean(angles, axis=1)"
   ]
  },
  {
   "cell_type": "code",
   "execution_count": 294,
   "id": "further-percentage",
   "metadata": {},
   "outputs": [
    {
     "data": {
      "image/png": "[encoded data removed]",
      "text/plain": [
       "<Figure size 432x288 with 1 Axes>"
      ]
     },
     "metadata": {
      "needs_background": "light"
     },
     "output_type": "display_data"
    }
   ],
   "source": [
    "for i in range(len(angles)):\n",
    "    plt.plot( np.ones(len(angles[i]))*resolutions[i], angles[i], \"o\", label=\"n = \"+str(resolutions[i]) )\n",
    "plt.plot(resolutions, mean_angles, label=\"means\")\n",
    "plt.legend()\n",
    "plt.title(\"Angle Between Z-axis and Major Axis\")\n",
    "plt.xlabel(\"Number of particles\")\n",
    "plt.ylabel(\"Angle (Radians)\")\n",
    "plt.xscale(\"log\")\n",
    "plt.yscale(\"log\")"
   ]
  },
  {
   "cell_type": "code",
   "execution_count": 296,
   "id": "lyric-crack",
   "metadata": {},
   "outputs": [
    {
     "data": {
      "text/plain": [
       "Text(0, 0.5, 'Count')"
      ]
     },
     "execution_count": 296,
     "metadata": {},
     "output_type": "execute_result"
    },
    {
     "data": {
      "image/png": "[encoded data removed]",
      "text/plain": [
       "<Figure size 432x288 with 1 Axes>"
      ]
     },
     "metadata": {
      "needs_background": "light"
     },
     "output_type": "display_data"
    }
   ],
   "source": [
    "#perfect_angles = sorted(perfect_angles)\n",
    "plt.hist(angles[0],bins=100,weights=np.sin(angles[0]));\n",
    "plt.title(\"n = 10 per halo, angle to z-axis\")\n",
    "plt.xlabel(r\"sin($\\theta$)\")\n",
    "plt.ylabel(\"Count\")\n",
    "#plt.hist(thetas)"
   ]
  },
  {
   "cell_type": "code",
   "execution_count": 295,
   "id": "spectacular-wheat",
   "metadata": {},
   "outputs": [
    {
     "data": {
      "text/plain": [
       "Text(0, 0.5, 'Count')"
      ]
     },
     "execution_count": 295,
     "metadata": {},
     "output_type": "execute_result"
    },
    {
     "data": {
      "image/png": "[encoded data removed]",
      "text/plain": [
       "<Figure size 432x288 with 1 Axes>"
      ]
     },
     "metadata": {
      "needs_background": "light"
     },
     "output_type": "display_data"
    }
   ],
   "source": [
    "#perfect_angles = sorted(perfect_angles)\n",
    "plt.hist(angles[1],bins=100,weights=np.sin(angles[1]));\n",
    "plt.title(\"n = 100 per halo, angle to z-axis\")\n",
    "plt.xlabel(r\"sin($\\theta$)\")\n",
    "plt.ylabel(\"Count\")\n",
    "#plt.hist(thetas)"
   ]
  },
  {
   "cell_type": "code",
   "execution_count": 297,
   "id": "reflected-compensation",
   "metadata": {},
   "outputs": [
    {
     "data": {
      "text/plain": [
       "Text(0, 0.5, 'Count')"
      ]
     },
     "execution_count": 297,
     "metadata": {},
     "output_type": "execute_result"
    },
    {
     "data": {
      "image/png": "[encoded data removed]",
      "text/plain": [
       "<Figure size 432x288 with 1 Axes>"
      ]
     },
     "metadata": {
      "needs_background": "light"
     },
     "output_type": "display_data"
    }
   ],
   "source": [
    "#perfect_angles = sorted(perfect_angles)\n",
    "plt.hist(angles[2],bins=100,weights=np.sin(angles[2]));\n",
    "plt.title(\"n = 1000 per halo, angle to z-axis\")\n",
    "plt.xlabel(r\"sin($\\theta$)\")\n",
    "plt.ylabel(\"Count\")\n",
    "#plt.hist(thetas)"
   ]
  },
  {
   "cell_type": "code",
   "execution_count": 298,
   "id": "ancient-naples",
   "metadata": {},
   "outputs": [
    {
     "data": {
      "text/plain": [
       "Text(0, 0.5, 'Count')"
      ]
     },
     "execution_count": 298,
     "metadata": {},
     "output_type": "execute_result"
    },
    {
     "data": {
      "image/png": "[encoded data removed]",
      "text/plain": [
       "<Figure size 432x288 with 1 Axes>"
      ]
     },
     "metadata": {
      "needs_background": "light"
     },
     "output_type": "display_data"
    }
   ],
   "source": [
    "#perfect_angles = sorted(perfect_angles)\n",
    "plt.hist(angles[3],bins=100,weights=np.sin(angles[3]));\n",
    "plt.title(\"n = 10000 per halo, angle to z-axis\")\n",
    "plt.xlabel(r\"sin($\\theta$)\")\n",
    "plt.ylabel(\"Count\")\n",
    "#plt.hist(thetas)"
   ]
  },
  {
   "cell_type": "code",
   "execution_count": 289,
   "id": "efficient-frequency",
   "metadata": {},
   "outputs": [
    {
     "data": {
      "text/plain": [
       "37027"
      ]
     },
     "execution_count": 289,
     "metadata": {},
     "output_type": "execute_result"
    }
   ],
   "source": [
    "import gc\n",
    "gc.collect()"
   ]
  },
  {
   "cell_type": "code",
   "execution_count": null,
   "id": "behavioral-break",
   "metadata": {},
   "outputs": [],
   "source": []
  }
 ],
 "metadata": {
  "kernelspec": {
   "display_name": "Python 3",
   "language": "python",
   "name": "python3"
  },
  "language_info": {
   "codemirror_mode": {
    "name": "ipython",
    "version": 3
   },
   "file_extension": ".py",
   "mimetype": "text/x-python",
   "name": "python",
   "nbconvert_exporter": "python",
   "pygments_lexer": "ipython3",
   "version": "3.8.1"
  }
 },
 "nbformat": 4,
 "nbformat_minor": 5
}
