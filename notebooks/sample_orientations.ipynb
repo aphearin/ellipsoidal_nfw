{
 "cells": [
  {
   "cell_type": "code",
   "execution_count": 1,
   "id": "worse-butterfly",
   "metadata": {},
   "outputs": [],
   "source": [
    "from halotools.sim_manager import HaloTableCache\n",
    "from halotools.sim_manager import CachedHaloCatalog\n",
    "from halotools_ia.correlation_functions import ed_3d, ee_3d\n",
    "from halotools.utils import rotate_vector_collection\n",
    "\n",
    "from halotools.empirical_models import HodModelFactory\n",
    "from halotools.empirical_models import TrivialPhaseSpace, Leauthaud11Cens, Leauthaud11Sats, SubhaloPhaseSpace\n",
    "from halotools_ia.ia_models.ia_model_components import CentralAlignment, RadialSatelliteAlignment\n",
    "from halotools_ia.ia_models.ia_strength_models import RadialSatelliteAlignmentStrength\n",
    "\n",
    "from halotools.utils.vector_utilities import (elementwise_dot, elementwise_norm, normalized_vectors,\n",
    "                                              angles_between_list_of_vectors, vectors_normal_to_planes)\n",
    "\n",
    "from ellipsoidal_nfw import random_nfw_ellipsoid\n",
    "\n",
    "from halotools.utils import crossmatch\n",
    "\n",
    "import numpy as np\n",
    "import matplotlib.pyplot as plt\n",
    "\n",
    "# This is not installed!!! Right now, these files are just sitting in the same directory\n",
    "import inertia_tensors as itens\n",
    "\n",
    "from generated_halo_helpers import downsample_halo, calculate_axes, separate_axes, get_angles, theta_phi, \\\n",
    "                                    get_rotation_matrix, extract_halo_properties, rotate_halos, generate_matching_halos, \\\n",
    "                                    mask_bad_halocat, get_halo_center\n",
    "\n",
    "import warnings\n",
    "warnings.filterwarnings(\"ignore\")"
   ]
  },
  {
   "cell_type": "code",
   "execution_count": 2,
   "id": "domestic-murder",
   "metadata": {},
   "outputs": [
    {
     "name": "stdout",
     "output_type": "stream",
     "text": [
      "('bolplanck', 'rockstar', 'halotools_v0p4', '-0.0023', 'C:\\Users\\nvana\\.astropy\\cache\\halotools\\halo_catalogs\\bolplanck\\rockstar\\hlist_1.00231.list.halotools_v0p4.hdf5')\n",
      "('bolshoi', 'rockstar', 'halotools_v0p4', '-0.0003', 'C:\\Users\\nvana\\.astropy\\cache\\halotools\\halo_catalogs\\bolshoi\\rockstar\\hlist_1.00035.list.halotools_v0p4.hdf5')\n"
     ]
    }
   ],
   "source": [
    "cache = HaloTableCache()\n",
    "for entry in cache.log: print(entry)\n",
    "\n",
    "#halocat = CachedHaloCatalog(simname='multidark', redshift=0)\n",
    "halocat = CachedHaloCatalog(simname='bolshoi', halo_finder='rockstar', redshift=0, version_name='halotools_v0p4')\n",
    "mask_bad_halocat(halocat)"
   ]
  },
  {
   "cell_type": "code",
   "execution_count": 3,
   "id": "logical-basement",
   "metadata": {},
   "outputs": [],
   "source": [
    "# Create model to generate subsample of halos\n",
    "\n",
    "cens_occ_model = Leauthaud11Cens\n",
    "cens_prof_model = TrivialPhaseSpace\n",
    "cens_orientation = CentralAlignment\n",
    "sats_occ_model = Leauthaud11Sats\n",
    "sats_prof_model1 = SubhaloPhaseSpace\n",
    "prof_args1 = (\"satellites\", np.logspace(10.5, 15.2, 15))\n",
    "sats_orientation = RadialSatelliteAlignment\n",
    "sats_strength = RadialSatelliteAlignmentStrength()\n",
    "Lbox = halocat.Lbox\n",
    "sats_strength.inherit_halocat_properties(Lbox=Lbox)\n",
    "\n",
    "model_instance = HodModelFactory(centrals_occupation = cens_occ_model(),\n",
    "                                 centrals_profile = cens_prof_model(),\n",
    "                                 satellites_occupation = sats_occ_model(),\n",
    "                                 satellites_profile = SubhaloPhaseSpace(*prof_args1),\n",
    "                                 satellites_radial_alignment_strength = sats_strength,\n",
    "                                 centrals_orientation = cens_orientation(alignment_strength=1),\n",
    "                                 satellites_orientation = sats_orientation(satellite_alignment_strength=1),\n",
    "                                 model_feature_calling_sequence = (\n",
    "                                 'centrals_occupation',\n",
    "                                 'centrals_profile',\n",
    "                                 'satellites_occupation',\n",
    "                                 'satellites_profile',\n",
    "                                 'satellites_radial_alignment_strength',\n",
    "                                 'centrals_orientation',\n",
    "                                 'satellites_orientation')\n",
    "                                )\n",
    "model_instance.populate_mock(halocat)\n",
    "\n",
    "# Get the subsample of the halocat of the halos included in the model\n",
    "hids = model_instance.mock.galaxy_table['halo_id']\n",
    "inds1, inds2 = crossmatch(hids, halocat.halo_table['halo_id'])\n",
    "subset = halocat.halo_table[inds2]\n",
    "\n",
    "subset = subset[:int(len(subset)/3)]"
   ]
  },
  {
   "cell_type": "code",
   "execution_count": 4,
   "id": "offensive-procedure",
   "metadata": {},
   "outputs": [],
   "source": [
    "rbins = np.logspace(-1,1.4,20)\n",
    "rbin_centers = (rbins[:-1]+rbins[1:])/2.0"
   ]
  },
  {
   "cell_type": "code",
   "execution_count": 5,
   "id": "emerging-mistress",
   "metadata": {},
   "outputs": [
    {
     "name": "stdout",
     "output_type": "stream",
     "text": [
      "0\n",
      "1\n",
      "2\n",
      "3\n",
      "4\n",
      "5\n",
      "6\n",
      "7\n",
      "8\n",
      "9\n",
      "10\n",
      "11\n",
      "12\n",
      "13\n",
      "14\n",
      "15\n",
      "16\n",
      "17\n",
      "18\n",
      "19\n",
      "20\n",
      "21\n",
      "22\n",
      "23\n",
      "24\n",
      "25\n",
      "26\n",
      "27\n",
      "28\n",
      "29\n",
      "30\n",
      "31\n",
      "32\n",
      "33\n",
      "34\n",
      "35\n",
      "36\n",
      "37\n",
      "38\n",
      "39\n",
      "40\n",
      "41\n",
      "42\n",
      "43\n",
      "44\n",
      "45\n",
      "46\n",
      "47\n",
      "48\n",
      "49\n",
      "50\n",
      "51\n",
      "52\n",
      "53\n",
      "54\n",
      "55\n",
      "56\n",
      "57\n",
      "58\n",
      "59\n",
      "60\n",
      "61\n",
      "62\n",
      "63\n",
      "64\n",
      "65\n",
      "66\n",
      "67\n",
      "68\n",
      "69\n",
      "70\n",
      "71\n",
      "72\n",
      "73\n",
      "74\n",
      "75\n",
      "76\n",
      "77\n",
      "78\n",
      "79\n",
      "80\n",
      "81\n",
      "82\n",
      "83\n",
      "84\n",
      "85\n",
      "86\n",
      "87\n",
      "88\n",
      "89\n",
      "90\n",
      "91\n",
      "92\n",
      "93\n",
      "94\n",
      "95\n",
      "96\n",
      "97\n",
      "98\n",
      "99\n"
     ]
    }
   ],
   "source": [
    "runs = 100\n",
    "resolution = 100\n",
    "batch_size = 10000    # The inertia tensor can only handle calculating so many halos at once\n",
    "\n",
    "# Get the halo coords for ee and ed since they will never change\n",
    "halo_coords = np.vstack((subset['halo_x'],\n",
    "                            subset['halo_y'],\n",
    "                            subset['halo_z'])).T\n",
    "\n",
    "# Get the halo orientations to check the delta theta later\n",
    "halo_orientations = np.vstack((subset['halo_axisA_x'],\n",
    "                                subset['halo_axisA_y'],\n",
    "                                subset['halo_axisA_z'])).T\n",
    "\n",
    "thetas = []\n",
    "omegas = []\n",
    "etas = []\n",
    "\n",
    "for i in range(runs):\n",
    "    print(i)\n",
    "    # Generate halos using the properties in the subset\n",
    "    props = extract_halo_properties(subset)\n",
    "    halos = generate_matching_halos(props, resolution=resolution, rotate=True)\n",
    "    \n",
    "    ind = 0\n",
    "    axes = []\n",
    "    # Because the inertia tensor calculation can't handle too many at once, do it in batches and reuse the containers\n",
    "    while ind < len(subset):\n",
    "        lengths, evecs = separate_axes( calculate_axes(halos[ind:ind+batch_size]) )\n",
    "        axes.append( evecs[:,:,0] )\n",
    "        ind += batch_size\n",
    "    \n",
    "    # Stack the axes together into one array now and calculate the desired quantities\n",
    "    axes = np.vstack( axes )\n",
    "    thetas.append( angles_between_list_of_vectors( halo_orientations, axes ) )\n",
    "    omegas.append( ed_3d(halo_coords, axes, halo_coords, rbins, period=halocat.Lbox) )\n",
    "    etas.append( ee_3d(halo_coords, axes, halo_coords, axes, rbins, period=halocat.Lbox) )\n",
    "\n",
    "# By the end of this loop, the folowing variables have the following shapes:\n",
    "# angles - (runs, len(subsample) )\n",
    "#    - Each list item is a list of all the angles between the generated axis and the halo axis they were modeled from\n",
    "# omegas - (runs, rbins)\n",
    "#    - Each list item is the result of ed_3d for that run, with a length equeal to rbins\n",
    "# etas - (runs, rbins)\n",
    "#    - same as omega"
   ]
  },
  {
   "cell_type": "code",
   "execution_count": 10,
   "id": "classical-qualification",
   "metadata": {},
   "outputs": [],
   "source": [
    "flat_angles = np.hstack(thetas)\n",
    "flat_angles = np.minimum(flat_angles, np.pi-flat_angles)"
   ]
  },
  {
   "cell_type": "code",
   "execution_count": 11,
   "id": "retired-actor",
   "metadata": {},
   "outputs": [
    {
     "data": {
      "image/png": "[encoded data removed]",
      "text/plain": [
       "<Figure size 432x288 with 1 Axes>"
      ]
     },
     "metadata": {
      "needs_background": "light"
     },
     "output_type": "display_data"
    }
   ],
   "source": [
    "plt.hist(flat_angles,bins=100);"
   ]
  },
  {
   "cell_type": "code",
   "execution_count": 16,
   "id": "worldwide-culture",
   "metadata": {},
   "outputs": [],
   "source": [
    "np.save(\"etas.npy\",etas)"
   ]
  },
  {
   "cell_type": "code",
   "execution_count": 17,
   "id": "positive-bahamas",
   "metadata": {},
   "outputs": [],
   "source": [
    "etas = np.load(\"Results\\etas.npy\")"
   ]
  },
  {
   "cell_type": "code",
   "execution_count": null,
   "id": "dressed-bundle",
   "metadata": {},
   "outputs": [],
   "source": []
  }
 ],
 "metadata": {
  "kernelspec": {
   "display_name": "Python 3",
   "language": "python",
   "name": "python3"
  },
  "language_info": {
   "codemirror_mode": {
    "name": "ipython",
    "version": 3
   },
   "file_extension": ".py",
   "mimetype": "text/x-python",
   "name": "python",
   "nbconvert_exporter": "python",
   "pygments_lexer": "ipython3",
   "version": "3.8.1"
  }
 },
 "nbformat": 4,
 "nbformat_minor": 5
}
